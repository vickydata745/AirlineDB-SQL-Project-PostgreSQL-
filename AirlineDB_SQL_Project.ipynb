{
 "cells": [
  {
   "cell_type": "markdown",
   "metadata": {},
   "source": [
    "# AirlineDB SQL Project (PostgreSQL)\n",
    "This notebook contains SQL queries for analyzing AirlineDB using PostgreSQL."
   ]
  },
  {
   "cell_type": "markdown",
   "metadata": {},
   "source": [
    "## Problem 1: Tickets without Boarding Passes\n",
    "**Objective:** Find how many tickets exist without corresponding boarding passes."
   ]
  },
  {
   "cell_type": "code",
   "execution_count": null,
   "metadata": {},
   "outputs": [],
   "source": [
    "%%sql\n",
    "SELECT COUNT(*) AS tickets_without_boarding_pass\n",
    "FROM tickets t\n",
    "LEFT JOIN boarding_passes bp ON t.ticket_no = bp.ticket_no\n",
    "WHERE bp.ticket_no IS NULL;"
   ]
  },
  {
   "cell_type": "markdown",
   "metadata": {},
   "source": [
    "## Problem 2: Format Booking Date\n",
    "Display book_ref, book_date (in yyyy-mm-dd format), and total_amount."
   ]
  },
  {
   "cell_type": "code",
   "execution_count": null,
   "metadata": {},
   "outputs": [],
   "source": [
    "%%sql\n",
    "SELECT book_ref, TO_CHAR(book_date, 'YYYY-MM-DD') AS book_date, total_amount\n",
    "FROM bookings;"
   ]
  },
  {
   "cell_type": "markdown",
   "metadata": {},
   "source": [
    "## Problem 3: Most Popular Product in Each Store"
   ]
  },
  {
   "cell_type": "code",
   "execution_count": null,
   "metadata": {},
   "outputs": [],
   "source": [
    "%%sql\n",
    "SELECT s.store_name, p.product_name, SUM(sa.quantity) AS quantity_sold\n",
    "FROM sales sa\n",
    "JOIN stores s ON sa.store_id = s.store_id\n",
    "JOIN products p ON sa.product_id = p.product_id\n",
    "GROUP BY s.store_name, p.product_name\n",
    "QUALIFY RANK() OVER (PARTITION BY s.store_name ORDER BY SUM(sa.quantity) DESC) = 1;"
   ]
  },
  {
   "cell_type": "markdown",
   "metadata": {},
   "source": [
    "## Problem 4: Quarterly Store Sales Performance Ranking"
   ]
  },
  {
   "cell_type": "code",
   "execution_count": null,
   "metadata": {},
   "outputs": [],
   "source": [
    "%%sql\n",
    "WITH quarterly_sales AS (\n",
    "    SELECT s.store_name, TO_CHAR(sa.sale_date, 'YYYY-"Q"Q') AS year_quarter,\n",
    "           SUM(sa.quantity * sa.list_price * (1 - sa.discount)) AS total_sales\n",
    "    FROM sales sa\n",
    "    JOIN stores s ON sa.store_id = s.store_id\n",
    "    GROUP BY s.store_name, TO_CHAR(sa.sale_date, 'YYYY-"Q"Q')\n",
    ")\n",
    "SELECT year_quarter, store_name, total_sales,\n",
    "       RANK() OVER (PARTITION BY year_quarter ORDER BY total_sales DESC) AS performance_rank\n",
    "FROM quarterly_sales\n",
    "ORDER BY year_quarter, performance_rank;"
   ]
  },
  {
   "cell_type": "markdown",
   "metadata": {},
   "source": [
    "## Problem 5: Rank Airports Based on Departures"
   ]
  },
  {
   "cell_type": "code",
   "execution_count": null,
   "metadata": {},
   "outputs": [],
   "source": [
    "%%sql\n",
    "SELECT departure_airport, COUNT(*) AS total_flights,\n",
    "       RANK() OVER (ORDER BY COUNT(*) DESC) AS airport_rank\n",
    "FROM flights\n",
    "GROUP BY departure_airport\n",
    "ORDER BY airport_rank;"
   ]
  }
 ],
 "metadata": {
  "kernelspec": {
   "display_name": "SQL",
   "language": "sql",
   "name": "sql"
  },
  "language_info": {
   "name": "sql"
  }
 },
 "nbformat": 4,
 "nbformat_minor": 5
}